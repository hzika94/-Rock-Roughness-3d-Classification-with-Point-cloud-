{
 "cells": [
  {
   "cell_type": "code",
   "execution_count": 1,
   "metadata": {},
   "outputs": [],
   "source": [
    "# pip install trimesh"
   ]
  },
  {
   "cell_type": "code",
   "execution_count": 2,
   "metadata": {},
   "outputs": [],
   "source": [
    "import os\n",
    "import glob\n",
    "import trimesh\n",
    "import numpy as np\n",
    "import tensorflow as tf\n",
    "from tensorflow import keras\n",
    "from tensorflow.keras import layers\n",
    "from matplotlib import pyplot as plt\n",
    "\n",
    "tf.random.set_seed(1234)"
   ]
  },
  {
   "cell_type": "code",
   "execution_count": 3,
   "metadata": {},
   "outputs": [],
   "source": [
    "import ssl\n",
    "ssl._create_default_https_context = ssl._create_unverified_context"
   ]
  },
  {
   "cell_type": "code",
   "execution_count": 9,
   "metadata": {},
   "outputs": [],
   "source": [
    "import pandas as pd"
   ]
  },
  {
   "cell_type": "code",
   "execution_count": 10,
   "metadata": {},
   "outputs": [],
   "source": [
    "data= pd.read_csv('1-1.csv')"
   ]
  },
  {
   "cell_type": "code",
   "execution_count": 11,
   "metadata": {},
   "outputs": [
    {
     "data": {
      "text/html": [
       "<div>\n",
       "<style scoped>\n",
       "    .dataframe tbody tr th:only-of-type {\n",
       "        vertical-align: middle;\n",
       "    }\n",
       "\n",
       "    .dataframe tbody tr th {\n",
       "        vertical-align: top;\n",
       "    }\n",
       "\n",
       "    .dataframe thead th {\n",
       "        text-align: right;\n",
       "    }\n",
       "</style>\n",
       "<table border=\"1\" class=\"dataframe\">\n",
       "  <thead>\n",
       "    <tr style=\"text-align: right;\">\n",
       "      <th></th>\n",
       "      <th>Column1.1</th>\n",
       "      <th>Column1.2</th>\n",
       "      <th>Column1.3</th>\n",
       "    </tr>\n",
       "  </thead>\n",
       "  <tbody>\n",
       "    <tr>\n",
       "      <th>0</th>\n",
       "      <td>0.000000</td>\n",
       "      <td>18.13588</td>\n",
       "      <td>0.4726</td>\n",
       "    </tr>\n",
       "    <tr>\n",
       "      <th>1</th>\n",
       "      <td>0.047290</td>\n",
       "      <td>18.13588</td>\n",
       "      <td>0.4672</td>\n",
       "    </tr>\n",
       "    <tr>\n",
       "      <th>2</th>\n",
       "      <td>0.094581</td>\n",
       "      <td>18.13588</td>\n",
       "      <td>0.4500</td>\n",
       "    </tr>\n",
       "    <tr>\n",
       "      <th>3</th>\n",
       "      <td>0.141871</td>\n",
       "      <td>18.13588</td>\n",
       "      <td>0.4253</td>\n",
       "    </tr>\n",
       "    <tr>\n",
       "      <th>4</th>\n",
       "      <td>0.189162</td>\n",
       "      <td>18.13588</td>\n",
       "      <td>0.4036</td>\n",
       "    </tr>\n",
       "  </tbody>\n",
       "</table>\n",
       "</div>"
      ],
      "text/plain": [
       "   Column1.1  Column1.2  Column1.3\n",
       "0   0.000000   18.13588     0.4726\n",
       "1   0.047290   18.13588     0.4672\n",
       "2   0.094581   18.13588     0.4500\n",
       "3   0.141871   18.13588     0.4253\n",
       "4   0.189162   18.13588     0.4036"
      ]
     },
     "execution_count": 11,
     "metadata": {},
     "output_type": "execute_result"
    }
   ],
   "source": [
    "data.head()"
   ]
  },
  {
   "cell_type": "code",
   "execution_count": 12,
   "metadata": {},
   "outputs": [],
   "source": [
    "test1 = np.array(data)"
   ]
  },
  {
   "cell_type": "code",
   "execution_count": 13,
   "metadata": {},
   "outputs": [
    {
     "data": {
      "text/plain": [
       "array([[ 0.      , 18.13588 ,  0.4726  ],\n",
       "       [ 0.04729 , 18.13588 ,  0.4672  ],\n",
       "       [ 0.094581, 18.13588 ,  0.45    ],\n",
       "       ...,\n",
       "       [24.118119,  0.      ,  0.3817  ],\n",
       "       [24.16541 ,  0.      ,  0.3891  ],\n",
       "       [24.189055,  0.      ,  0.3896  ]])"
      ]
     },
     "execution_count": 13,
     "metadata": {},
     "output_type": "execute_result"
    }
   ],
   "source": [
    "test1"
   ]
  },
  {
   "cell_type": "code",
   "execution_count": 14,
   "metadata": {},
   "outputs": [
    {
     "data": {
      "image/png": "[encoded data removed]",
      "text/plain": [
       "<Figure size 360x360 with 1 Axes>"
      ]
     },
     "metadata": {
      "needs_background": "light"
     },
     "output_type": "display_data"
    }
   ],
   "source": [
    "fig = plt.figure(figsize=(5, 5))\n",
    "ax = fig.add_subplot(111, projection=\"3d\")\n",
    "ax.scatter(test1[:, 0], test1[:, 1], test1[:, 2])\n",
    "ax.set_axis_off()\n",
    "plt.show()"
   ]
  },
  {
   "cell_type": "code",
   "execution_count": 15,
   "metadata": {},
   "outputs": [],
   "source": [
    "train_points = []\n",
    "train_labels = []\n",
    "class_map = {}\n",
    "folders = glob.glob(os.path.join(DATA_DIR, \"[!README]*\"))\n",
    "\n",
    "path = 'C:\\\\Upwork\\\\roughness Project'\n",
    "files = glob.glob(path + '/*.csv', recursive = True)"
   ]
  },
  {
   "cell_type": "code",
   "execution_count": 16,
   "metadata": {},
   "outputs": [
    {
     "data": {
      "text/plain": [
       "['C:\\\\Users\\\\DELL\\\\.keras\\\\datasets\\\\ModelNet10\\\\bathtub',\n",
       " 'C:\\\\Users\\\\DELL\\\\.keras\\\\datasets\\\\ModelNet10\\\\bed',\n",
       " 'C:\\\\Users\\\\DELL\\\\.keras\\\\datasets\\\\ModelNet10\\\\chair',\n",
       " 'C:\\\\Users\\\\DELL\\\\.keras\\\\datasets\\\\ModelNet10\\\\night_stand',\n",
       " 'C:\\\\Users\\\\DELL\\\\.keras\\\\datasets\\\\ModelNet10\\\\sofa',\n",
       " 'C:\\\\Users\\\\DELL\\\\.keras\\\\datasets\\\\ModelNet10\\\\table',\n",
       " 'C:\\\\Users\\\\DELL\\\\.keras\\\\datasets\\\\ModelNet10\\\\toilet']"
      ]
     },
     "execution_count": 16,
     "metadata": {},
     "output_type": "execute_result"
    }
   ],
   "source": [
    "folders"
   ]
  },
  {
   "cell_type": "code",
   "execution_count": 17,
   "metadata": {},
   "outputs": [
    {
     "name": "stdout",
     "output_type": "stream",
     "text": [
      "processing class: bathtub\n",
      "processing class: bed\n",
      "processing class: chair\n",
      "processing class: night_stand\n",
      "processing class: sofa\n",
      "processing class: table\n",
      "processing class: toilet\n"
     ]
    }
   ],
   "source": [
    "    for i, folder in enumerate(folders):\n",
    "        print(\"processing class: {}\".format(os.path.basename(folder)))\n",
    "        # store folder name with ID so we can retrieve later\n",
    "        class_map[i] = folder.split(\"/\")[-1]"
   ]
  },
  {
   "cell_type": "code",
   "execution_count": 18,
   "metadata": {},
   "outputs": [
    {
     "data": {
      "text/plain": [
       "['C:\\\\Upwork\\\\roughness Project\\\\1-1.csv',\n",
       " 'C:\\\\Upwork\\\\roughness Project\\\\1-2.csv',\n",
       " 'C:\\\\Upwork\\\\roughness Project\\\\1-3.csv',\n",
       " 'C:\\\\Upwork\\\\roughness Project\\\\1-4.csv',\n",
       " 'C:\\\\Upwork\\\\roughness Project\\\\1-5.csv',\n",
       " 'C:\\\\Upwork\\\\roughness Project\\\\2-1.csv',\n",
       " 'C:\\\\Upwork\\\\roughness Project\\\\2-2.csv',\n",
       " 'C:\\\\Upwork\\\\roughness Project\\\\2-3.csv',\n",
       " 'C:\\\\Upwork\\\\roughness Project\\\\2-4.csv',\n",
       " 'C:\\\\Upwork\\\\roughness Project\\\\2-5.csv',\n",
       " 'C:\\\\Upwork\\\\roughness Project\\\\3-1.csv',\n",
       " 'C:\\\\Upwork\\\\roughness Project\\\\3-2.csv',\n",
       " 'C:\\\\Upwork\\\\roughness Project\\\\3-3.csv',\n",
       " 'C:\\\\Upwork\\\\roughness Project\\\\3-4.csv',\n",
       " 'C:\\\\Upwork\\\\roughness Project\\\\3-5.csv']"
      ]
     },
     "execution_count": 18,
     "metadata": {},
     "output_type": "execute_result"
    }
   ],
   "source": [
    "files"
   ]
  },
  {
   "cell_type": "code",
   "execution_count": 19,
   "metadata": {},
   "outputs": [],
   "source": [
    "# file.split('\\\\')[-1].split('-')[0]"
   ]
  },
  {
   "cell_type": "code",
   "execution_count": 20,
   "metadata": {},
   "outputs": [],
   "source": [
    "data = {}\n",
    "for i , file in enumerate(files) : \n",
    "    data[i] = pd.read_csv(file)"
   ]
  },
  {
   "cell_type": "code",
   "execution_count": 21,
   "metadata": {},
   "outputs": [
    {
     "data": {
      "text/plain": [
       "dict_keys([0, 1, 2, 3, 4, 5, 6, 7, 8, 9, 10, 11, 12, 13, 14])"
      ]
     },
     "execution_count": 21,
     "metadata": {},
     "output_type": "execute_result"
    }
   ],
   "source": [
    "data.keys()"
   ]
  },
  {
   "cell_type": "code",
   "execution_count": 22,
   "metadata": {},
   "outputs": [
    {
     "data": {
      "text/html": [
       "<div>\n",
       "<style scoped>\n",
       "    .dataframe tbody tr th:only-of-type {\n",
       "        vertical-align: middle;\n",
       "    }\n",
       "\n",
       "    .dataframe tbody tr th {\n",
       "        vertical-align: top;\n",
       "    }\n",
       "\n",
       "    .dataframe thead th {\n",
       "        text-align: right;\n",
       "    }\n",
       "</style>\n",
       "<table border=\"1\" class=\"dataframe\">\n",
       "  <thead>\n",
       "    <tr style=\"text-align: right;\">\n",
       "      <th></th>\n",
       "      <th>Column1.1</th>\n",
       "      <th>Column1.2</th>\n",
       "      <th>Column1.3</th>\n",
       "    </tr>\n",
       "  </thead>\n",
       "  <tbody>\n",
       "    <tr>\n",
       "      <th>0</th>\n",
       "      <td>0.000000</td>\n",
       "      <td>18.13588</td>\n",
       "      <td>0.5101</td>\n",
       "    </tr>\n",
       "    <tr>\n",
       "      <th>1</th>\n",
       "      <td>0.047290</td>\n",
       "      <td>18.13588</td>\n",
       "      <td>0.5157</td>\n",
       "    </tr>\n",
       "    <tr>\n",
       "      <th>2</th>\n",
       "      <td>0.118226</td>\n",
       "      <td>18.13588</td>\n",
       "      <td>0.5312</td>\n",
       "    </tr>\n",
       "    <tr>\n",
       "      <th>3</th>\n",
       "      <td>0.165517</td>\n",
       "      <td>18.13588</td>\n",
       "      <td>0.5404</td>\n",
       "    </tr>\n",
       "    <tr>\n",
       "      <th>4</th>\n",
       "      <td>0.189162</td>\n",
       "      <td>18.13588</td>\n",
       "      <td>0.5422</td>\n",
       "    </tr>\n",
       "    <tr>\n",
       "      <th>...</th>\n",
       "      <td>...</td>\n",
       "      <td>...</td>\n",
       "      <td>...</td>\n",
       "    </tr>\n",
       "    <tr>\n",
       "      <th>137822</th>\n",
       "      <td>24.047184</td>\n",
       "      <td>0.00000</td>\n",
       "      <td>0.4901</td>\n",
       "    </tr>\n",
       "    <tr>\n",
       "      <th>137823</th>\n",
       "      <td>24.070829</td>\n",
       "      <td>0.00000</td>\n",
       "      <td>0.4865</td>\n",
       "    </tr>\n",
       "    <tr>\n",
       "      <th>137824</th>\n",
       "      <td>24.118119</td>\n",
       "      <td>0.00000</td>\n",
       "      <td>0.4809</td>\n",
       "    </tr>\n",
       "    <tr>\n",
       "      <th>137825</th>\n",
       "      <td>24.165410</td>\n",
       "      <td>0.00000</td>\n",
       "      <td>0.4779</td>\n",
       "    </tr>\n",
       "    <tr>\n",
       "      <th>137826</th>\n",
       "      <td>24.189055</td>\n",
       "      <td>0.00000</td>\n",
       "      <td>0.4770</td>\n",
       "    </tr>\n",
       "  </tbody>\n",
       "</table>\n",
       "<p>137827 rows × 3 columns</p>\n",
       "</div>"
      ],
      "text/plain": [
       "        Column1.1  Column1.2  Column1.3\n",
       "0        0.000000   18.13588     0.5101\n",
       "1        0.047290   18.13588     0.5157\n",
       "2        0.118226   18.13588     0.5312\n",
       "3        0.165517   18.13588     0.5404\n",
       "4        0.189162   18.13588     0.5422\n",
       "...           ...        ...        ...\n",
       "137822  24.047184    0.00000     0.4901\n",
       "137823  24.070829    0.00000     0.4865\n",
       "137824  24.118119    0.00000     0.4809\n",
       "137825  24.165410    0.00000     0.4779\n",
       "137826  24.189055    0.00000     0.4770\n",
       "\n",
       "[137827 rows x 3 columns]"
      ]
     },
     "execution_count": 22,
     "metadata": {},
     "output_type": "execute_result"
    }
   ],
   "source": [
    "data[1]"
   ]
  },
  {
   "cell_type": "code",
   "execution_count": 23,
   "metadata": {},
   "outputs": [],
   "source": [
    "for key in data.keys() : \n",
    "    data[key] = np.array(data[key])"
   ]
  },
  {
   "cell_type": "code",
   "execution_count": 24,
   "metadata": {},
   "outputs": [
    {
     "data": {
      "text/plain": [
       "array([[ 0.      , 18.13588 ,  0.5101  ],\n",
       "       [ 0.04729 , 18.13588 ,  0.5157  ],\n",
       "       [ 0.118226, 18.13588 ,  0.5312  ],\n",
       "       ...,\n",
       "       [24.118119,  0.      ,  0.4809  ],\n",
       "       [24.16541 ,  0.      ,  0.4779  ],\n",
       "       [24.189055,  0.      ,  0.477   ]])"
      ]
     },
     "execution_count": 24,
     "metadata": {},
     "output_type": "execute_result"
    }
   ],
   "source": [
    "data[1]"
   ]
  },
  {
   "cell_type": "code",
   "execution_count": 25,
   "metadata": {},
   "outputs": [
    {
     "data": {
      "image/png": "[encoded data removed]",
      "text/plain": [
       "<Figure size 360x360 with 1 Axes>"
      ]
     },
     "metadata": {
      "needs_background": "light"
     },
     "output_type": "display_data"
    }
   ],
   "source": [
    "fig = plt.figure(figsize=(5, 5))\n",
    "ax = fig.add_subplot(111, projection=\"3d\")\n",
    "ax.scatter(data[10][:, 0], data[10][:, 1], data[10][:, 2])\n",
    "ax.set_axis_off()\n",
    "plt.show()"
   ]
  },
  {
   "cell_type": "code",
   "execution_count": 26,
   "metadata": {},
   "outputs": [
    {
     "data": {
      "text/plain": [
       "dict_keys([0, 1, 2, 3, 4, 5, 6, 7, 8, 9, 10, 11, 12, 13, 14])"
      ]
     },
     "execution_count": 26,
     "metadata": {},
     "output_type": "execute_result"
    }
   ],
   "source": [
    "data.keys()"
   ]
  },
  {
   "cell_type": "code",
   "execution_count": null,
   "metadata": {},
   "outputs": [],
   "source": []
  },
  {
   "cell_type": "code",
   "execution_count": 27,
   "metadata": {},
   "outputs": [],
   "source": [
    "# def label (num) : \n",
    "#     if num >=0 and num <= 4 : \n",
    "#         return 1 \n",
    "#     elif num >=5 and num <=9 : \n",
    "#         return 2 \n",
    "#     elif num >=10 and num <=14 : \n",
    "#         return 3 \n",
    "#     else :\n",
    "#         return 'No Type'"
   ]
  },
  {
   "cell_type": "code",
   "execution_count": 28,
   "metadata": {},
   "outputs": [],
   "source": [
    "# label(15)"
   ]
  },
  {
   "cell_type": "code",
   "execution_count": 29,
   "metadata": {},
   "outputs": [],
   "source": [
    "# train_points = []\n",
    "# train_labels = []\n",
    "\n",
    "# for file in files :\n",
    "#     if file.split('\\\\')[-1].split('-')[0] == '1' :\n",
    "#         train_labels.append(1)\n",
    "#     elif file.split('\\\\')[-1].split('-')[0] == '2' : \n",
    "#         train_labels.append(2) \n",
    "#     elif file.split('\\\\')[-1].split('-')[0] == '3' : \n",
    "#         train_labels.append(3)\n",
    "#     else : \n",
    "#         print ('No Type')\n",
    "# print (train_labels)\n",
    "    "
   ]
  },
  {
   "cell_type": "markdown",
   "metadata": {},
   "source": [
    "# Dealing With Test Data "
   ]
  },
  {
   "cell_type": "code",
   "execution_count": 30,
   "metadata": {},
   "outputs": [],
   "source": [
    "# pip install markupsafe==2.0.1"
   ]
  },
  {
   "cell_type": "code",
   "execution_count": 31,
   "metadata": {},
   "outputs": [
    {
     "name": "stdout",
     "output_type": "stream",
     "text": [
      "Requirement already satisfied: werkzeug==2.0.3 in c:\\users\\dell\\anaconda3\\lib\\site-packages (2.0.3)\n",
      "Note: you may need to restart the kernel to use updated packages.\n"
     ]
    }
   ],
   "source": [
    "# pip install werkzeug==2.0.3"
   ]
  },
  {
   "cell_type": "code",
   "execution_count": 33,
   "metadata": {},
   "outputs": [
    {
     "ename": "NameError",
     "evalue": "name 'depth' is not defined",
     "output_type": "error",
     "traceback": [
      "\u001b[1;31m---------------------------------------------------------------------------\u001b[0m",
      "\u001b[1;31mNameError\u001b[0m                                 Traceback (most recent call last)",
      "\u001b[1;32m<ipython-input-33-ef3af0a97814>\u001b[0m in \u001b[0;36m<module>\u001b[1;34m\u001b[0m\n\u001b[0;32m      7\u001b[0m \u001b[1;33m\u001b[0m\u001b[0m\n\u001b[0;32m      8\u001b[0m \u001b[0mvertices\u001b[0m \u001b[1;33m=\u001b[0m \u001b[1;33m[\u001b[0m\u001b[1;33m]\u001b[0m\u001b[1;33m\u001b[0m\u001b[1;33m\u001b[0m\u001b[0m\n\u001b[1;32m----> 9\u001b[1;33m \u001b[1;32mfor\u001b[0m \u001b[0mx\u001b[0m \u001b[1;32min\u001b[0m \u001b[0mrange\u001b[0m\u001b[1;33m(\u001b[0m\u001b[0mdepth\u001b[0m\u001b[1;33m.\u001b[0m\u001b[0mshape\u001b[0m\u001b[1;33m[\u001b[0m\u001b[1;36m0\u001b[0m\u001b[1;33m]\u001b[0m\u001b[1;33m)\u001b[0m\u001b[1;33m:\u001b[0m\u001b[1;33m\u001b[0m\u001b[1;33m\u001b[0m\u001b[0m\n\u001b[0m\u001b[0;32m     10\u001b[0m     \u001b[1;32mfor\u001b[0m \u001b[0my\u001b[0m \u001b[1;32min\u001b[0m \u001b[0mrange\u001b[0m\u001b[1;33m(\u001b[0m\u001b[0mdepth\u001b[0m\u001b[1;33m.\u001b[0m\u001b[0mshape\u001b[0m\u001b[1;33m[\u001b[0m\u001b[1;36m1\u001b[0m\u001b[1;33m]\u001b[0m\u001b[1;33m)\u001b[0m\u001b[1;33m:\u001b[0m\u001b[1;33m\u001b[0m\u001b[1;33m\u001b[0m\u001b[0m\n\u001b[0;32m     11\u001b[0m         \u001b[0mvertices\u001b[0m\u001b[1;33m.\u001b[0m\u001b[0mappend\u001b[0m\u001b[1;33m(\u001b[0m\u001b[1;33m(\u001b[0m\u001b[0mfloat\u001b[0m\u001b[1;33m(\u001b[0m\u001b[0mx\u001b[0m\u001b[1;33m)\u001b[0m\u001b[1;33m,\u001b[0m \u001b[0mfloat\u001b[0m\u001b[1;33m(\u001b[0m\u001b[0my\u001b[0m\u001b[1;33m)\u001b[0m\u001b[1;33m)\u001b[0m\u001b[1;33m)\u001b[0m\u001b[1;33m\u001b[0m\u001b[1;33m\u001b[0m\u001b[0m\n",
      "\u001b[1;31mNameError\u001b[0m: name 'depth' is not defined"
     ]
    }
   ],
   "source": [
    "# import cv2\n",
    "# import numpy as np\n",
    "# import open3d as o3d\n",
    "\n",
    "# color = o3d.io.read_image(\"1-1.png\")\n",
    "# # depth = np.loadtxt(\"a542d.txt\")\n",
    "\n",
    "# vertices = []\n",
    "# for x in range(depth.shape[0]):\n",
    "#     for y in range(depth.shape[1]):\n",
    "#         vertices.append((float(x), float(y)))\n",
    "# pcd = o3d.geometry.PointCloud()\n",
    "# point_cloud = np.asarray(np.array(vertices))\n",
    "# pcd.points = o3d.utility.Vector3dVector(point_cloud)\n",
    "# pcd.estimate_normals()\n",
    "# pcd = pcd.normalize_normals()\n",
    "# o3d.visualization.draw_geometries([pcd])"
   ]
  },
  {
   "cell_type": "code",
   "execution_count": null,
   "metadata": {},
   "outputs": [],
   "source": []
  },
  {
   "cell_type": "code",
   "execution_count": null,
   "metadata": {},
   "outputs": [],
   "source": []
  },
  {
   "cell_type": "code",
   "execution_count": null,
   "metadata": {},
   "outputs": [],
   "source": []
  },
  {
   "cell_type": "code",
   "execution_count": null,
   "metadata": {},
   "outputs": [],
   "source": []
  },
  {
   "cell_type": "code",
   "execution_count": null,
   "metadata": {},
   "outputs": [],
   "source": []
  },
  {
   "cell_type": "code",
   "execution_count": null,
   "metadata": {},
   "outputs": [],
   "source": []
  },
  {
   "cell_type": "code",
   "execution_count": null,
   "metadata": {},
   "outputs": [],
   "source": []
  },
  {
   "cell_type": "code",
   "execution_count": null,
   "metadata": {},
   "outputs": [],
   "source": []
  },
  {
   "cell_type": "code",
   "execution_count": null,
   "metadata": {},
   "outputs": [],
   "source": []
  },
  {
   "cell_type": "code",
   "execution_count": null,
   "metadata": {},
   "outputs": [],
   "source": []
  },
  {
   "cell_type": "code",
   "execution_count": null,
   "metadata": {},
   "outputs": [],
   "source": []
  },
  {
   "cell_type": "code",
   "execution_count": null,
   "metadata": {},
   "outputs": [],
   "source": []
  },
  {
   "cell_type": "code",
   "execution_count": null,
   "metadata": {},
   "outputs": [],
   "source": []
  },
  {
   "cell_type": "code",
   "execution_count": null,
   "metadata": {},
   "outputs": [],
   "source": []
  },
  {
   "cell_type": "code",
   "execution_count": null,
   "metadata": {},
   "outputs": [],
   "source": []
  },
  {
   "cell_type": "code",
   "execution_count": null,
   "metadata": {},
   "outputs": [],
   "source": []
  },
  {
   "cell_type": "code",
   "execution_count": null,
   "metadata": {},
   "outputs": [],
   "source": []
  },
  {
   "cell_type": "code",
   "execution_count": 154,
   "metadata": {},
   "outputs": [],
   "source": [
    "def parse_dataset(num_points=2048):\n",
    "    data = {}\n",
    "    train_points = []\n",
    "    train_labels = []\n",
    "    for i , file in enumerate(files) :\n",
    "        data[i] = pd.read_csv(file)\n",
    "        data[i] = np.array(data[i])\n",
    "        train_points.append(data[i][:num_points])\n",
    "        label = file.split('\\\\')[-1].split('-')[0] \n",
    "        train_labels.append(int(label))\n",
    "    return (\n",
    "    np.array(train_points),\n",
    "    np.array(train_labels),\n",
    "    )\n",
    "\n",
    "    # print(train_points)\n",
    "    # print(train_labels)\n",
    "\n",
    "    # type(train_points)\n",
    "    # type(data[i])\n",
    "    # train_labels"
   ]
  },
  {
   "cell_type": "code",
   "execution_count": 155,
   "metadata": {},
   "outputs": [
    {
     "data": {
      "text/plain": [
       "2048"
      ]
     },
     "execution_count": 155,
     "metadata": {},
     "output_type": "execute_result"
    }
   ],
   "source": [
    "len(data[i][:2048])"
   ]
  },
  {
   "cell_type": "code",
   "execution_count": 156,
   "metadata": {},
   "outputs": [],
   "source": [
    "NUM_POINTS = 2048\n",
    "NUM_CLASSES = 10\n",
    "BATCH_SIZE = 32\n",
    "\n",
    "train_points, train_labels = parse_dataset(\n",
    "    NUM_POINTS\n",
    ")"
   ]
  },
  {
   "cell_type": "code",
   "execution_count": 157,
   "metadata": {},
   "outputs": [],
   "source": [
    "# def show_shapes(): # can make yours to take inputs; this'll use local variable values\n",
    "#     print(\"Expected: (num_samples, timesteps, channels)\")\n",
    "#     print(\"train_points: {}\".format(train_points.shape))\n",
    "#     print(\"train_labels:   {}\".format(train_labels.shape))  "
   ]
  },
  {
   "cell_type": "code",
   "execution_count": 158,
   "metadata": {},
   "outputs": [],
   "source": [
    "# train_points = np.asarray(train_points)\n",
    "# train_labels   = np.asarray(train_labels)\n",
    "# show_shapes()\n",
    "\n",
    "# train_points = np.expand_dims(train_points, -1)\n",
    "# train_labels   = np.expand_dims(train_labels, -1)\n",
    "# show_shapes()"
   ]
  },
  {
   "cell_type": "code",
   "execution_count": 159,
   "metadata": {},
   "outputs": [
    {
     "data": {
      "text/plain": [
       "numpy.ndarray"
      ]
     },
     "execution_count": 159,
     "metadata": {},
     "output_type": "execute_result"
    }
   ],
   "source": [
    "type(train_points)"
   ]
  },
  {
   "cell_type": "code",
   "execution_count": 160,
   "metadata": {},
   "outputs": [
    {
     "data": {
      "text/plain": [
       "numpy.ndarray"
      ]
     },
     "execution_count": 160,
     "metadata": {},
     "output_type": "execute_result"
    }
   ],
   "source": [
    "type(train_labels)"
   ]
  },
  {
   "cell_type": "code",
   "execution_count": 161,
   "metadata": {},
   "outputs": [],
   "source": [
    "# train_points = np.array(train_points)\n",
    "# train_labels = np.array(train_labels)"
   ]
  },
  {
   "cell_type": "code",
   "execution_count": 162,
   "metadata": {},
   "outputs": [],
   "source": [
    "# train_labels= np.asarray(train_labels).astype(np.float32)"
   ]
  },
  {
   "cell_type": "code",
   "execution_count": 163,
   "metadata": {},
   "outputs": [
    {
     "data": {
      "text/plain": [
       "numpy.ndarray"
      ]
     },
     "execution_count": 163,
     "metadata": {},
     "output_type": "execute_result"
    }
   ],
   "source": [
    "type(train_labels)"
   ]
  },
  {
   "cell_type": "code",
   "execution_count": 164,
   "metadata": {},
   "outputs": [],
   "source": [
    "def augment(points, label):\n",
    "    # jitter points\n",
    "    points += tf.random.uniform(points.shape, -0.005, 0.005, dtype=tf.float64)\n",
    "    # shuffle points\n",
    "    points = tf.random.shuffle(points)\n",
    "    return points, label\n",
    "\n",
    "\n",
    "train_dataset = tf.data.Dataset.from_tensor_slices((train_points, train_labels))\n",
    "train_dataset = train_dataset.shuffle(len(train_points)).map(augment).batch(BATCH_SIZE)\n"
   ]
  },
  {
   "cell_type": "code",
   "execution_count": 165,
   "metadata": {},
   "outputs": [
    {
     "data": {
      "text/plain": [
       "<BatchDataset element_spec=(TensorSpec(shape=(None, 2048, 3), dtype=tf.float64, name=None), TensorSpec(shape=(None,), dtype=tf.int32, name=None))>"
      ]
     },
     "execution_count": 165,
     "metadata": {},
     "output_type": "execute_result"
    }
   ],
   "source": [
    "train_dataset"
   ]
  },
  {
   "cell_type": "code",
   "execution_count": null,
   "metadata": {},
   "outputs": [],
   "source": []
  },
  {
   "cell_type": "markdown",
   "metadata": {},
   "source": [
    "# Building Model "
   ]
  },
  {
   "cell_type": "code",
   "execution_count": 166,
   "metadata": {},
   "outputs": [],
   "source": [
    "def conv_bn(x, filters):\n",
    "    x = layers.Conv1D(filters, kernel_size=1, padding=\"valid\")(x)\n",
    "    x = layers.BatchNormalization(momentum=0.0)(x)\n",
    "    return layers.Activation(\"relu\")(x)\n",
    "\n",
    "\n",
    "def dense_bn(x, filters):\n",
    "    x = layers.Dense(filters)(x)\n",
    "    x = layers.BatchNormalization(momentum=0.0)(x)\n",
    "    return layers.Activation(\"relu\")(x)"
   ]
  },
  {
   "cell_type": "code",
   "execution_count": 167,
   "metadata": {},
   "outputs": [],
   "source": [
    "class OrthogonalRegularizer(keras.regularizers.Regularizer):\n",
    "    def __init__(self, num_features, l2reg=0.001):\n",
    "        self.num_features = num_features\n",
    "        self.l2reg = l2reg\n",
    "        self.eye = tf.eye(num_features)\n",
    "\n",
    "    def __call__(self, x):\n",
    "        x = tf.reshape(x, (-1, self.num_features, self.num_features))\n",
    "        xxt = tf.tensordot(x, x, axes=(2, 2))\n",
    "        xxt = tf.reshape(xxt, (-1, self.num_features, self.num_features))\n",
    "        return tf.reduce_sum(self.l2reg * tf.square(xxt - self.eye))"
   ]
  },
  {
   "cell_type": "code",
   "execution_count": 168,
   "metadata": {},
   "outputs": [],
   "source": [
    "def tnet(inputs, num_features):\n",
    "\n",
    "    # Initalise bias as the indentity matrix\n",
    "    bias = keras.initializers.Constant(np.eye(num_features).flatten())\n",
    "    reg = OrthogonalRegularizer(num_features)\n",
    "\n",
    "    x = conv_bn(inputs, 32)\n",
    "    x = conv_bn(x, 64)\n",
    "    x = conv_bn(x, 512)\n",
    "    x = layers.GlobalMaxPooling1D()(x)\n",
    "    x = dense_bn(x, 256)\n",
    "    x = dense_bn(x, 128)\n",
    "    x = layers.Dense(\n",
    "        num_features * num_features,\n",
    "        kernel_initializer=\"zeros\",\n",
    "        bias_initializer=bias,\n",
    "        activity_regularizer=reg,\n",
    "    )(x)\n",
    "    feat_T = layers.Reshape((num_features, num_features))(x)\n",
    "    # Apply affine transformation to input features\n",
    "    return layers.Dot(axes=(2, 1))([inputs, feat_T])"
   ]
  },
  {
   "cell_type": "code",
   "execution_count": 169,
   "metadata": {},
   "outputs": [
    {
     "name": "stdout",
     "output_type": "stream",
     "text": [
      "Model: \"pointnet\"\n",
      "__________________________________________________________________________________________________\n",
      " Layer (type)                   Output Shape         Param #     Connected to                     \n",
      "==================================================================================================\n",
      " input_9 (InputLayer)           [(None, 2048, 3)]    0           []                               \n",
      "                                                                                                  \n",
      " conv1d_57 (Conv1D)             (None, 2048, 32)     128         ['input_9[0][0]']                \n",
      "                                                                                                  \n",
      " batch_normalization_85 (BatchN  (None, 2048, 32)    128         ['conv1d_57[0][0]']              \n",
      " ormalization)                                                                                    \n",
      "                                                                                                  \n",
      " activation_85 (Activation)     (None, 2048, 32)     0           ['batch_normalization_85[0][0]'] \n",
      "                                                                                                  \n",
      " conv1d_58 (Conv1D)             (None, 2048, 64)     2112        ['activation_85[0][0]']          \n",
      "                                                                                                  \n",
      " batch_normalization_86 (BatchN  (None, 2048, 64)    256         ['conv1d_58[0][0]']              \n",
      " ormalization)                                                                                    \n",
      "                                                                                                  \n",
      " activation_86 (Activation)     (None, 2048, 64)     0           ['batch_normalization_86[0][0]'] \n",
      "                                                                                                  \n",
      " conv1d_59 (Conv1D)             (None, 2048, 512)    33280       ['activation_86[0][0]']          \n",
      "                                                                                                  \n",
      " batch_normalization_87 (BatchN  (None, 2048, 512)   2048        ['conv1d_59[0][0]']              \n",
      " ormalization)                                                                                    \n",
      "                                                                                                  \n",
      " activation_87 (Activation)     (None, 2048, 512)    0           ['batch_normalization_87[0][0]'] \n",
      "                                                                                                  \n",
      " global_max_pooling1d_15 (Globa  (None, 512)         0           ['activation_87[0][0]']          \n",
      " lMaxPooling1D)                                                                                   \n",
      "                                                                                                  \n",
      " dense_45 (Dense)               (None, 256)          131328      ['global_max_pooling1d_15[0][0]']\n",
      "                                                                                                  \n",
      " batch_normalization_88 (BatchN  (None, 256)         1024        ['dense_45[0][0]']               \n",
      " ormalization)                                                                                    \n",
      "                                                                                                  \n",
      " activation_88 (Activation)     (None, 256)          0           ['batch_normalization_88[0][0]'] \n",
      "                                                                                                  \n",
      " dense_46 (Dense)               (None, 128)          32896       ['activation_88[0][0]']          \n",
      "                                                                                                  \n",
      " batch_normalization_89 (BatchN  (None, 128)         512         ['dense_46[0][0]']               \n",
      " ormalization)                                                                                    \n",
      "                                                                                                  \n",
      " activation_89 (Activation)     (None, 128)          0           ['batch_normalization_89[0][0]'] \n",
      "                                                                                                  \n",
      " dense_47 (Dense)               (None, 9)            1161        ['activation_89[0][0]']          \n",
      "                                                                                                  \n",
      " reshape_10 (Reshape)           (None, 3, 3)         0           ['dense_47[0][0]']               \n",
      "                                                                                                  \n",
      " dot_10 (Dot)                   (None, 2048, 3)      0           ['input_9[0][0]',                \n",
      "                                                                  'reshape_10[0][0]']             \n",
      "                                                                                                  \n",
      " conv1d_60 (Conv1D)             (None, 2048, 32)     128         ['dot_10[0][0]']                 \n",
      "                                                                                                  \n",
      " batch_normalization_90 (BatchN  (None, 2048, 32)    128         ['conv1d_60[0][0]']              \n",
      " ormalization)                                                                                    \n",
      "                                                                                                  \n",
      " activation_90 (Activation)     (None, 2048, 32)     0           ['batch_normalization_90[0][0]'] \n",
      "                                                                                                  \n",
      " conv1d_61 (Conv1D)             (None, 2048, 32)     1056        ['activation_90[0][0]']          \n",
      "                                                                                                  \n",
      " batch_normalization_91 (BatchN  (None, 2048, 32)    128         ['conv1d_61[0][0]']              \n",
      " ormalization)                                                                                    \n",
      "                                                                                                  \n",
      " activation_91 (Activation)     (None, 2048, 32)     0           ['batch_normalization_91[0][0]'] \n",
      "                                                                                                  \n",
      " conv1d_62 (Conv1D)             (None, 2048, 32)     1056        ['activation_91[0][0]']          \n",
      "                                                                                                  \n",
      " batch_normalization_92 (BatchN  (None, 2048, 32)    128         ['conv1d_62[0][0]']              \n",
      " ormalization)                                                                                    \n",
      "                                                                                                  \n",
      " activation_92 (Activation)     (None, 2048, 32)     0           ['batch_normalization_92[0][0]'] \n",
      "                                                                                                  \n",
      " conv1d_63 (Conv1D)             (None, 2048, 64)     2112        ['activation_92[0][0]']          \n",
      "                                                                                                  \n",
      " batch_normalization_93 (BatchN  (None, 2048, 64)    256         ['conv1d_63[0][0]']              \n",
      " ormalization)                                                                                    \n",
      "                                                                                                  \n",
      " activation_93 (Activation)     (None, 2048, 64)     0           ['batch_normalization_93[0][0]'] \n",
      "                                                                                                  \n",
      " conv1d_64 (Conv1D)             (None, 2048, 512)    33280       ['activation_93[0][0]']          \n",
      "                                                                                                  \n",
      " batch_normalization_94 (BatchN  (None, 2048, 512)   2048        ['conv1d_64[0][0]']              \n",
      " ormalization)                                                                                    \n",
      "                                                                                                  \n"
     ]
    },
    {
     "name": "stdout",
     "output_type": "stream",
     "text": [
      " activation_94 (Activation)     (None, 2048, 512)    0           ['batch_normalization_94[0][0]'] \n",
      "                                                                                                  \n",
      " global_max_pooling1d_16 (Globa  (None, 512)         0           ['activation_94[0][0]']          \n",
      " lMaxPooling1D)                                                                                   \n",
      "                                                                                                  \n",
      " dense_48 (Dense)               (None, 256)          131328      ['global_max_pooling1d_16[0][0]']\n",
      "                                                                                                  \n",
      " batch_normalization_95 (BatchN  (None, 256)         1024        ['dense_48[0][0]']               \n",
      " ormalization)                                                                                    \n",
      "                                                                                                  \n",
      " activation_95 (Activation)     (None, 256)          0           ['batch_normalization_95[0][0]'] \n",
      "                                                                                                  \n",
      " dense_49 (Dense)               (None, 128)          32896       ['activation_95[0][0]']          \n",
      "                                                                                                  \n",
      " batch_normalization_96 (BatchN  (None, 128)         512         ['dense_49[0][0]']               \n",
      " ormalization)                                                                                    \n",
      "                                                                                                  \n",
      " activation_96 (Activation)     (None, 128)          0           ['batch_normalization_96[0][0]'] \n",
      "                                                                                                  \n",
      " dense_50 (Dense)               (None, 1024)         132096      ['activation_96[0][0]']          \n",
      "                                                                                                  \n",
      " reshape_11 (Reshape)           (None, 32, 32)       0           ['dense_50[0][0]']               \n",
      "                                                                                                  \n",
      " dot_11 (Dot)                   (None, 2048, 32)     0           ['activation_91[0][0]',          \n",
      "                                                                  'reshape_11[0][0]']             \n",
      "                                                                                                  \n",
      " conv1d_65 (Conv1D)             (None, 2048, 32)     1056        ['dot_11[0][0]']                 \n",
      "                                                                                                  \n",
      " batch_normalization_97 (BatchN  (None, 2048, 32)    128         ['conv1d_65[0][0]']              \n",
      " ormalization)                                                                                    \n",
      "                                                                                                  \n",
      " activation_97 (Activation)     (None, 2048, 32)     0           ['batch_normalization_97[0][0]'] \n",
      "                                                                                                  \n",
      " conv1d_66 (Conv1D)             (None, 2048, 64)     2112        ['activation_97[0][0]']          \n",
      "                                                                                                  \n",
      " batch_normalization_98 (BatchN  (None, 2048, 64)    256         ['conv1d_66[0][0]']              \n",
      " ormalization)                                                                                    \n",
      "                                                                                                  \n",
      " activation_98 (Activation)     (None, 2048, 64)     0           ['batch_normalization_98[0][0]'] \n",
      "                                                                                                  \n",
      " conv1d_67 (Conv1D)             (None, 2048, 512)    33280       ['activation_98[0][0]']          \n",
      "                                                                                                  \n",
      " batch_normalization_99 (BatchN  (None, 2048, 512)   2048        ['conv1d_67[0][0]']              \n",
      " ormalization)                                                                                    \n",
      "                                                                                                  \n",
      " activation_99 (Activation)     (None, 2048, 512)    0           ['batch_normalization_99[0][0]'] \n",
      "                                                                                                  \n",
      " global_max_pooling1d_17 (Globa  (None, 512)         0           ['activation_99[0][0]']          \n",
      " lMaxPooling1D)                                                                                   \n",
      "                                                                                                  \n",
      " dense_51 (Dense)               (None, 256)          131328      ['global_max_pooling1d_17[0][0]']\n",
      "                                                                                                  \n",
      " batch_normalization_100 (Batch  (None, 256)         1024        ['dense_51[0][0]']               \n",
      " Normalization)                                                                                   \n",
      "                                                                                                  \n",
      " activation_100 (Activation)    (None, 256)          0           ['batch_normalization_100[0][0]']\n",
      "                                                                                                  \n",
      " dropout_10 (Dropout)           (None, 256)          0           ['activation_100[0][0]']         \n",
      "                                                                                                  \n",
      " dense_52 (Dense)               (None, 128)          32896       ['dropout_10[0][0]']             \n",
      "                                                                                                  \n",
      " batch_normalization_101 (Batch  (None, 128)         512         ['dense_52[0][0]']               \n",
      " Normalization)                                                                                   \n",
      "                                                                                                  \n",
      " activation_101 (Activation)    (None, 128)          0           ['batch_normalization_101[0][0]']\n",
      "                                                                                                  \n",
      " dropout_11 (Dropout)           (None, 128)          0           ['activation_101[0][0]']         \n",
      "                                                                                                  \n",
      " dense_53 (Dense)               (None, 10)           1290        ['dropout_11[0][0]']             \n",
      "                                                                                                  \n",
      "==================================================================================================\n",
      "Total params: 748,979\n",
      "Trainable params: 742,899\n",
      "Non-trainable params: 6,080\n",
      "__________________________________________________________________________________________________\n"
     ]
    }
   ],
   "source": [
    "inputs = keras.Input(shape=(NUM_POINTS, 3))\n",
    "x = tnet(inputs, 3)\n",
    "x = conv_bn(x, 32)\n",
    "x = conv_bn(x, 32)\n",
    "x = tnet(x, 32)\n",
    "x = conv_bn(x, 32)\n",
    "x = conv_bn(x, 64)\n",
    "x = conv_bn(x, 512)\n",
    "x = layers.GlobalMaxPooling1D()(x)\n",
    "x = dense_bn(x, 256)\n",
    "x = layers.Dropout(0.3)(x)\n",
    "x = dense_bn(x, 128)\n",
    "x = layers.Dropout(0.3)(x)\n",
    "\n",
    "outputs = layers.Dense(NUM_CLASSES, activation=\"softmax\")(x)\n",
    "\n",
    "model = keras.Model(inputs=inputs, outputs=outputs, name=\"pointnet\")\n",
    "model.summary()"
   ]
  },
  {
   "cell_type": "code",
   "execution_count": 170,
   "metadata": {},
   "outputs": [],
   "source": [
    "model.compile(\n",
    "    loss=\"sparse_categorical_crossentropy\",\n",
    "    optimizer=keras.optimizers.Adam(learning_rate=0.001),\n",
    "    metrics=[\"sparse_categorical_accuracy\"],\n",
    ")\n"
   ]
  },
  {
   "cell_type": "code",
   "execution_count": 171,
   "metadata": {},
   "outputs": [
    {
     "name": "stdout",
     "output_type": "stream",
     "text": [
      "Epoch 1/20\n",
      "1/1 [==============================] - 8s 8s/step - loss: 3.6584 - sparse_categorical_accuracy: 0.2667\n",
      "Epoch 2/20\n",
      "1/1 [==============================] - 2s 2s/step - loss: 3.6532 - sparse_categorical_accuracy: 0.2667\n",
      "Epoch 3/20\n",
      "1/1 [==============================] - 2s 2s/step - loss: 3.3183 - sparse_categorical_accuracy: 0.2000\n",
      "Epoch 4/20\n",
      "1/1 [==============================] - 2s 2s/step - loss: 3.2357 - sparse_categorical_accuracy: 0.3333\n",
      "Epoch 5/20\n",
      "1/1 [==============================] - 2s 2s/step - loss: 2.8937 - sparse_categorical_accuracy: 0.4000\n",
      "Epoch 6/20\n",
      "1/1 [==============================] - 2s 2s/step - loss: 2.6984 - sparse_categorical_accuracy: 0.6000\n",
      "Epoch 7/20\n",
      "1/1 [==============================] - 2s 2s/step - loss: 2.4881 - sparse_categorical_accuracy: 0.6667\n",
      "Epoch 8/20\n",
      "1/1 [==============================] - 2s 2s/step - loss: 2.2303 - sparse_categorical_accuracy: 0.7333\n",
      "Epoch 9/20\n",
      "1/1 [==============================] - 2s 2s/step - loss: 2.1077 - sparse_categorical_accuracy: 0.8000\n",
      "Epoch 10/20\n",
      "1/1 [==============================] - 2s 2s/step - loss: 1.8878 - sparse_categorical_accuracy: 0.9333\n",
      "Epoch 11/20\n",
      "1/1 [==============================] - 2s 2s/step - loss: 1.6678 - sparse_categorical_accuracy: 1.0000\n",
      "Epoch 12/20\n",
      "1/1 [==============================] - 2s 2s/step - loss: 1.6477 - sparse_categorical_accuracy: 1.0000\n",
      "Epoch 13/20\n",
      "1/1 [==============================] - 2s 2s/step - loss: 1.4988 - sparse_categorical_accuracy: 0.9333\n",
      "Epoch 14/20\n",
      "1/1 [==============================] - 2s 2s/step - loss: 1.4768 - sparse_categorical_accuracy: 1.0000\n",
      "Epoch 15/20\n",
      "1/1 [==============================] - 2s 2s/step - loss: 1.3567 - sparse_categorical_accuracy: 1.0000\n",
      "Epoch 16/20\n",
      "1/1 [==============================] - 2s 2s/step - loss: 1.2438 - sparse_categorical_accuracy: 1.0000\n",
      "Epoch 17/20\n",
      "1/1 [==============================] - 2s 2s/step - loss: 1.2799 - sparse_categorical_accuracy: 1.0000\n",
      "Epoch 18/20\n",
      "1/1 [==============================] - 1s 1s/step - loss: 1.1722 - sparse_categorical_accuracy: 1.0000\n",
      "Epoch 19/20\n",
      "1/1 [==============================] - 2s 2s/step - loss: 1.1186 - sparse_categorical_accuracy: 1.0000\n",
      "Epoch 20/20\n",
      "1/1 [==============================] - 2s 2s/step - loss: 1.0894 - sparse_categorical_accuracy: 1.0000\n"
     ]
    },
    {
     "data": {
      "text/plain": [
       "<keras.callbacks.History at 0x23e499c2508>"
      ]
     },
     "execution_count": 171,
     "metadata": {},
     "output_type": "execute_result"
    }
   ],
   "source": [
    "model.fit(train_dataset, epochs=20)"
   ]
  },
  {
   "cell_type": "code",
   "execution_count": null,
   "metadata": {},
   "outputs": [],
   "source": []
  },
  {
   "cell_type": "code",
   "execution_count": null,
   "metadata": {},
   "outputs": [],
   "source": []
  }
 ],
 "metadata": {
  "kernelspec": {
   "display_name": "Python 3",
   "language": "python",
   "name": "python3"
  },
  "language_info": {
   "codemirror_mode": {
    "name": "ipython",
    "version": 3
   },
   "file_extension": ".py",
   "mimetype": "text/x-python",
   "name": "python",
   "nbconvert_exporter": "python",
   "pygments_lexer": "ipython3",
   "version": "3.7.6"
  }
 },
 "nbformat": 4,
 "nbformat_minor": 4
}
